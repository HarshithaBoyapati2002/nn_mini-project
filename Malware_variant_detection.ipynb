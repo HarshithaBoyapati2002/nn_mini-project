{
  "nbformat": 4,
  "nbformat_minor": 0,
  "metadata": {
    "colab": {
      "provenance": []
    },
    "kernelspec": {
      "name": "python3",
      "display_name": "Python 3"
    },
    "language_info": {
      "name": "python"
    }
  },
  "cells": [
    {
      "cell_type": "code",
      "source": [
        "import kagglehub\n",
        "\n",
        "# Download latest version\n",
        "path = kagglehub.dataset_download(\"rdrtud/malimg\")\n",
        "\n",
        "print(\"Path to dataset files:\", path)"
      ],
      "metadata": {
        "colab": {
          "base_uri": "https://localhost:8080/"
        },
        "id": "-IWoRBy1a4Ur",
        "outputId": "85be222b-ed99-4af7-dfc6-792029e8366f"
      },
      "execution_count": null,
      "outputs": [
        {
          "output_type": "stream",
          "name": "stdout",
          "text": [
            "Downloading from https://www.kaggle.com/api/v1/datasets/download/rdrtud/malimg?dataset_version_number=1...\n"
          ]
        },
        {
          "output_type": "stream",
          "name": "stderr",
          "text": [
            "100%|██████████| 1.09G/1.09G [00:13<00:00, 89.0MB/s]"
          ]
        },
        {
          "output_type": "stream",
          "name": "stdout",
          "text": [
            "Extracting files...\n"
          ]
        },
        {
          "output_type": "stream",
          "name": "stderr",
          "text": [
            "\n"
          ]
        },
        {
          "output_type": "stream",
          "name": "stdout",
          "text": [
            "Path to dataset files: /root/.cache/kagglehub/datasets/rdrtud/malimg/versions/1\n"
          ]
        }
      ]
    },
    {
      "cell_type": "code",
      "source": [
        "import numpy as np\n",
        "from tensorflow.keras.models import Model\n",
        "from tensorflow.keras.layers import Input, Conv2D, MaxPooling2D, Dense, Flatten, GlobalAveragePooling2D\n",
        "from tensorflow.keras.layers import Lambda\n",
        "import tensorflow as tf"
      ],
      "metadata": {
        "id": "OqsToESQckBB"
      },
      "execution_count": null,
      "outputs": []
    },
    {
      "cell_type": "code",
      "source": [
        "def spatial_pyramid_pooling(inputs, pool_list):\n",
        "    \"\"\"Creates spatial pyramid pooling based on a list of bin sizes.\"\"\"\n",
        "    outputs = []\n",
        "    for pool_size in pool_list:\n",
        "        pooled = tf.image.resize(inputs, [pool_size, pool_size])\n",
        "        pooled = GlobalAveragePooling2D()(pooled)\n",
        "        outputs.append(pooled)\n",
        "    return tf.concat(outputs, axis=-1)"
      ],
      "metadata": {
        "id": "oiJZUBD1clg4"
      },
      "execution_count": null,
      "outputs": []
    },
    {
      "cell_type": "code",
      "source": [
        "def create_sppnet(input_shape=(192, 192, 1), num_classes=25):\n",
        "    inputs = Input(shape=input_shape)\n",
        "\n",
        "    # Convolutional layers\n",
        "    x = Conv2D(32, (3, 3), activation='relu', padding='same')(inputs)\n",
        "    x = MaxPooling2D((2, 2))(x)\n",
        "    x = Conv2D(64, (3, 3), activation='relu', padding='same')(x)\n",
        "    x = MaxPooling2D((2, 2))(x)\n",
        "    x = Conv2D(128, (3, 3), activation='relu', padding='same')(x)\n",
        "\n",
        "    # Spatial Pyramid Pooling\n",
        "    x = Lambda(lambda x: spatial_pyramid_pooling(x, [1, 2, 4]))(x)\n",
        "\n",
        "    # Fully connected layer\n",
        "    x = Dense(512, activation='relu')(x)\n",
        "    outputs = Dense(num_classes, activation='softmax')(x)\n",
        "\n",
        "    model = Model(inputs, outputs)\n",
        "    return model"
      ],
      "metadata": {
        "id": "v6XUKJ9Bcpa5"
      },
      "execution_count": null,
      "outputs": []
    },
    {
      "cell_type": "code",
      "source": [
        "path = kagglehub.dataset_download(\"rdrtud/malimg\")"
      ],
      "metadata": {
        "id": "BuCQANozcvKX"
      },
      "execution_count": null,
      "outputs": []
    },
    {
      "cell_type": "code",
      "source": [
        "model = create_sppnet()"
      ],
      "metadata": {
        "id": "TVpq7Dd7cy4b"
      },
      "execution_count": null,
      "outputs": []
    },
    {
      "cell_type": "code",
      "source": [
        "model.compile(optimizer='adam', loss='categorical_crossentropy', metrics=['accuracy'])\n"
      ],
      "metadata": {
        "id": "ZXDdU2VkdFNm"
      },
      "execution_count": null,
      "outputs": []
    },
    {
      "cell_type": "code",
      "source": [
        "model.summary()\n"
      ],
      "metadata": {
        "colab": {
          "base_uri": "https://localhost:8080/",
          "height": 417
        },
        "id": "Lz6fihIMdKLh",
        "outputId": "646aa08e-5e6c-4224-bf62-06b783bb6cba"
      },
      "execution_count": null,
      "outputs": [
        {
          "output_type": "display_data",
          "data": {
            "text/plain": [
              "\u001b[1mModel: \"functional_1\"\u001b[0m\n"
            ],
            "text/html": [
              "<pre style=\"white-space:pre;overflow-x:auto;line-height:normal;font-family:Menlo,'DejaVu Sans Mono',consolas,'Courier New',monospace\"><span style=\"font-weight: bold\">Model: \"functional_1\"</span>\n",
              "</pre>\n"
            ]
          },
          "metadata": {}
        },
        {
          "output_type": "display_data",
          "data": {
            "text/plain": [
              "┏━━━━━━━━━━━━━━━━━━━━━━━━━━━━━━━━━━━━━━┳━━━━━━━━━━━━━━━━━━━━━━━━━━━━━┳━━━━━━━━━━━━━━━━━┓\n",
              "┃\u001b[1m \u001b[0m\u001b[1mLayer (type)                        \u001b[0m\u001b[1m \u001b[0m┃\u001b[1m \u001b[0m\u001b[1mOutput Shape               \u001b[0m\u001b[1m \u001b[0m┃\u001b[1m \u001b[0m\u001b[1m        Param #\u001b[0m\u001b[1m \u001b[0m┃\n",
              "┡━━━━━━━━━━━━━━━━━━━━━━━━━━━━━━━━━━━━━━╇━━━━━━━━━━━━━━━━━━━━━━━━━━━━━╇━━━━━━━━━━━━━━━━━┩\n",
              "│ input_layer_1 (\u001b[38;5;33mInputLayer\u001b[0m)           │ (\u001b[38;5;45mNone\u001b[0m, \u001b[38;5;34m192\u001b[0m, \u001b[38;5;34m192\u001b[0m, \u001b[38;5;34m1\u001b[0m)         │               \u001b[38;5;34m0\u001b[0m │\n",
              "├──────────────────────────────────────┼─────────────────────────────┼─────────────────┤\n",
              "│ conv2d_2 (\u001b[38;5;33mConv2D\u001b[0m)                    │ (\u001b[38;5;45mNone\u001b[0m, \u001b[38;5;34m192\u001b[0m, \u001b[38;5;34m192\u001b[0m, \u001b[38;5;34m32\u001b[0m)        │             \u001b[38;5;34m320\u001b[0m │\n",
              "├──────────────────────────────────────┼─────────────────────────────┼─────────────────┤\n",
              "│ max_pooling2d_2 (\u001b[38;5;33mMaxPooling2D\u001b[0m)       │ (\u001b[38;5;45mNone\u001b[0m, \u001b[38;5;34m96\u001b[0m, \u001b[38;5;34m96\u001b[0m, \u001b[38;5;34m32\u001b[0m)          │               \u001b[38;5;34m0\u001b[0m │\n",
              "├──────────────────────────────────────┼─────────────────────────────┼─────────────────┤\n",
              "│ conv2d_3 (\u001b[38;5;33mConv2D\u001b[0m)                    │ (\u001b[38;5;45mNone\u001b[0m, \u001b[38;5;34m96\u001b[0m, \u001b[38;5;34m96\u001b[0m, \u001b[38;5;34m64\u001b[0m)          │          \u001b[38;5;34m18,496\u001b[0m │\n",
              "├──────────────────────────────────────┼─────────────────────────────┼─────────────────┤\n",
              "│ max_pooling2d_3 (\u001b[38;5;33mMaxPooling2D\u001b[0m)       │ (\u001b[38;5;45mNone\u001b[0m, \u001b[38;5;34m48\u001b[0m, \u001b[38;5;34m48\u001b[0m, \u001b[38;5;34m64\u001b[0m)          │               \u001b[38;5;34m0\u001b[0m │\n",
              "├──────────────────────────────────────┼─────────────────────────────┼─────────────────┤\n",
              "│ conv2d_4 (\u001b[38;5;33mConv2D\u001b[0m)                    │ (\u001b[38;5;45mNone\u001b[0m, \u001b[38;5;34m48\u001b[0m, \u001b[38;5;34m48\u001b[0m, \u001b[38;5;34m128\u001b[0m)         │          \u001b[38;5;34m73,856\u001b[0m │\n",
              "├──────────────────────────────────────┼─────────────────────────────┼─────────────────┤\n",
              "│ lambda (\u001b[38;5;33mLambda\u001b[0m)                      │ (\u001b[38;5;45mNone\u001b[0m, \u001b[38;5;34m384\u001b[0m)                 │               \u001b[38;5;34m0\u001b[0m │\n",
              "├──────────────────────────────────────┼─────────────────────────────┼─────────────────┤\n",
              "│ dense_2 (\u001b[38;5;33mDense\u001b[0m)                      │ (\u001b[38;5;45mNone\u001b[0m, \u001b[38;5;34m512\u001b[0m)                 │         \u001b[38;5;34m197,120\u001b[0m │\n",
              "├──────────────────────────────────────┼─────────────────────────────┼─────────────────┤\n",
              "│ dense_3 (\u001b[38;5;33mDense\u001b[0m)                      │ (\u001b[38;5;45mNone\u001b[0m, \u001b[38;5;34m25\u001b[0m)                  │          \u001b[38;5;34m12,825\u001b[0m │\n",
              "└──────────────────────────────────────┴─────────────────────────────┴─────────────────┘\n"
            ],
            "text/html": [
              "<pre style=\"white-space:pre;overflow-x:auto;line-height:normal;font-family:Menlo,'DejaVu Sans Mono',consolas,'Courier New',monospace\">┏━━━━━━━━━━━━━━━━━━━━━━━━━━━━━━━━━━━━━━┳━━━━━━━━━━━━━━━━━━━━━━━━━━━━━┳━━━━━━━━━━━━━━━━━┓\n",
              "┃<span style=\"font-weight: bold\"> Layer (type)                         </span>┃<span style=\"font-weight: bold\"> Output Shape                </span>┃<span style=\"font-weight: bold\">         Param # </span>┃\n",
              "┡━━━━━━━━━━━━━━━━━━━━━━━━━━━━━━━━━━━━━━╇━━━━━━━━━━━━━━━━━━━━━━━━━━━━━╇━━━━━━━━━━━━━━━━━┩\n",
              "│ input_layer_1 (<span style=\"color: #0087ff; text-decoration-color: #0087ff\">InputLayer</span>)           │ (<span style=\"color: #00d7ff; text-decoration-color: #00d7ff\">None</span>, <span style=\"color: #00af00; text-decoration-color: #00af00\">192</span>, <span style=\"color: #00af00; text-decoration-color: #00af00\">192</span>, <span style=\"color: #00af00; text-decoration-color: #00af00\">1</span>)         │               <span style=\"color: #00af00; text-decoration-color: #00af00\">0</span> │\n",
              "├──────────────────────────────────────┼─────────────────────────────┼─────────────────┤\n",
              "│ conv2d_2 (<span style=\"color: #0087ff; text-decoration-color: #0087ff\">Conv2D</span>)                    │ (<span style=\"color: #00d7ff; text-decoration-color: #00d7ff\">None</span>, <span style=\"color: #00af00; text-decoration-color: #00af00\">192</span>, <span style=\"color: #00af00; text-decoration-color: #00af00\">192</span>, <span style=\"color: #00af00; text-decoration-color: #00af00\">32</span>)        │             <span style=\"color: #00af00; text-decoration-color: #00af00\">320</span> │\n",
              "├──────────────────────────────────────┼─────────────────────────────┼─────────────────┤\n",
              "│ max_pooling2d_2 (<span style=\"color: #0087ff; text-decoration-color: #0087ff\">MaxPooling2D</span>)       │ (<span style=\"color: #00d7ff; text-decoration-color: #00d7ff\">None</span>, <span style=\"color: #00af00; text-decoration-color: #00af00\">96</span>, <span style=\"color: #00af00; text-decoration-color: #00af00\">96</span>, <span style=\"color: #00af00; text-decoration-color: #00af00\">32</span>)          │               <span style=\"color: #00af00; text-decoration-color: #00af00\">0</span> │\n",
              "├──────────────────────────────────────┼─────────────────────────────┼─────────────────┤\n",
              "│ conv2d_3 (<span style=\"color: #0087ff; text-decoration-color: #0087ff\">Conv2D</span>)                    │ (<span style=\"color: #00d7ff; text-decoration-color: #00d7ff\">None</span>, <span style=\"color: #00af00; text-decoration-color: #00af00\">96</span>, <span style=\"color: #00af00; text-decoration-color: #00af00\">96</span>, <span style=\"color: #00af00; text-decoration-color: #00af00\">64</span>)          │          <span style=\"color: #00af00; text-decoration-color: #00af00\">18,496</span> │\n",
              "├──────────────────────────────────────┼─────────────────────────────┼─────────────────┤\n",
              "│ max_pooling2d_3 (<span style=\"color: #0087ff; text-decoration-color: #0087ff\">MaxPooling2D</span>)       │ (<span style=\"color: #00d7ff; text-decoration-color: #00d7ff\">None</span>, <span style=\"color: #00af00; text-decoration-color: #00af00\">48</span>, <span style=\"color: #00af00; text-decoration-color: #00af00\">48</span>, <span style=\"color: #00af00; text-decoration-color: #00af00\">64</span>)          │               <span style=\"color: #00af00; text-decoration-color: #00af00\">0</span> │\n",
              "├──────────────────────────────────────┼─────────────────────────────┼─────────────────┤\n",
              "│ conv2d_4 (<span style=\"color: #0087ff; text-decoration-color: #0087ff\">Conv2D</span>)                    │ (<span style=\"color: #00d7ff; text-decoration-color: #00d7ff\">None</span>, <span style=\"color: #00af00; text-decoration-color: #00af00\">48</span>, <span style=\"color: #00af00; text-decoration-color: #00af00\">48</span>, <span style=\"color: #00af00; text-decoration-color: #00af00\">128</span>)         │          <span style=\"color: #00af00; text-decoration-color: #00af00\">73,856</span> │\n",
              "├──────────────────────────────────────┼─────────────────────────────┼─────────────────┤\n",
              "│ lambda (<span style=\"color: #0087ff; text-decoration-color: #0087ff\">Lambda</span>)                      │ (<span style=\"color: #00d7ff; text-decoration-color: #00d7ff\">None</span>, <span style=\"color: #00af00; text-decoration-color: #00af00\">384</span>)                 │               <span style=\"color: #00af00; text-decoration-color: #00af00\">0</span> │\n",
              "├──────────────────────────────────────┼─────────────────────────────┼─────────────────┤\n",
              "│ dense_2 (<span style=\"color: #0087ff; text-decoration-color: #0087ff\">Dense</span>)                      │ (<span style=\"color: #00d7ff; text-decoration-color: #00d7ff\">None</span>, <span style=\"color: #00af00; text-decoration-color: #00af00\">512</span>)                 │         <span style=\"color: #00af00; text-decoration-color: #00af00\">197,120</span> │\n",
              "├──────────────────────────────────────┼─────────────────────────────┼─────────────────┤\n",
              "│ dense_3 (<span style=\"color: #0087ff; text-decoration-color: #0087ff\">Dense</span>)                      │ (<span style=\"color: #00d7ff; text-decoration-color: #00d7ff\">None</span>, <span style=\"color: #00af00; text-decoration-color: #00af00\">25</span>)                  │          <span style=\"color: #00af00; text-decoration-color: #00af00\">12,825</span> │\n",
              "└──────────────────────────────────────┴─────────────────────────────┴─────────────────┘\n",
              "</pre>\n"
            ]
          },
          "metadata": {}
        },
        {
          "output_type": "display_data",
          "data": {
            "text/plain": [
              "\u001b[1m Total params: \u001b[0m\u001b[38;5;34m302,617\u001b[0m (1.15 MB)\n"
            ],
            "text/html": [
              "<pre style=\"white-space:pre;overflow-x:auto;line-height:normal;font-family:Menlo,'DejaVu Sans Mono',consolas,'Courier New',monospace\"><span style=\"font-weight: bold\"> Total params: </span><span style=\"color: #00af00; text-decoration-color: #00af00\">302,617</span> (1.15 MB)\n",
              "</pre>\n"
            ]
          },
          "metadata": {}
        },
        {
          "output_type": "display_data",
          "data": {
            "text/plain": [
              "\u001b[1m Trainable params: \u001b[0m\u001b[38;5;34m302,617\u001b[0m (1.15 MB)\n"
            ],
            "text/html": [
              "<pre style=\"white-space:pre;overflow-x:auto;line-height:normal;font-family:Menlo,'DejaVu Sans Mono',consolas,'Courier New',monospace\"><span style=\"font-weight: bold\"> Trainable params: </span><span style=\"color: #00af00; text-decoration-color: #00af00\">302,617</span> (1.15 MB)\n",
              "</pre>\n"
            ]
          },
          "metadata": {}
        },
        {
          "output_type": "display_data",
          "data": {
            "text/plain": [
              "\u001b[1m Non-trainable params: \u001b[0m\u001b[38;5;34m0\u001b[0m (0.00 B)\n"
            ],
            "text/html": [
              "<pre style=\"white-space:pre;overflow-x:auto;line-height:normal;font-family:Menlo,'DejaVu Sans Mono',consolas,'Courier New',monospace\"><span style=\"font-weight: bold\"> Non-trainable params: </span><span style=\"color: #00af00; text-decoration-color: #00af00\">0</span> (0.00 B)\n",
              "</pre>\n"
            ]
          },
          "metadata": {}
        }
      ]
    },
    {
      "cell_type": "code",
      "source": [
        "import os\n",
        "\n",
        "# Print the path and check directory structure\n",
        "print(\"Base dataset path:\", path)\n",
        "print(\"Contents of base dataset path:\", os.listdir(path))\n",
        "\n",
        "# Drill down one more level if needed\n",
        "for subdir in os.listdir(path):\n",
        "    print(f\"Contents of {subdir}:\", os.listdir(os.path.join(path, subdir)))\n"
      ],
      "metadata": {
        "colab": {
          "base_uri": "https://localhost:8080/"
        },
        "id": "GEWtZyEVfn67",
        "outputId": "1083bada-9169-4fbf-dc23-451be04f5005"
      },
      "execution_count": null,
      "outputs": [
        {
          "output_type": "stream",
          "name": "stdout",
          "text": [
            "Base dataset path: /root/.cache/kagglehub/datasets/rdrtud/malimg/versions/1\n",
            "Contents of base dataset path: ['data']\n",
            "Contents of data: ['malimg_paper_dataset_imgs']\n"
          ]
        }
      ]
    },
    {
      "cell_type": "code",
      "source": [
        "import os\n",
        "import numpy as np\n",
        "from tensorflow.keras.preprocessing.image import load_img, img_to_array\n",
        "from sklearn.model_selection import train_test_split\n",
        "from tensorflow.keras.utils import to_categorical\n",
        "import kagglehub\n",
        "\n",
        "# Download the dataset using kagglehub\n",
        "path = kagglehub.dataset_download(\"rdrtud/malimg\")\n",
        "\n",
        "# Set dataset_path based on the downloaded dataset location\n",
        "dataset_path = os.path.join(path, \"malimg_paper_dataset_imgs\")\n",
        "img_size = (192, 192)  # Ensure this matches your model's input size\n",
        "\n",
        "# Verify that the dataset path exists\n",
        "if not os.path.exists(dataset_path):\n",
        "    print(\"Dataset path does not exist. Please verify the path.\")\n",
        "else:\n",
        "    images = []\n",
        "    labels = []\n",
        "\n",
        "    # Load images and labels\n",
        "    for label_dir in os.listdir(dataset_path):\n",
        "        label_path = os.path.join(dataset_path, label_dir)\n",
        "        if os.path.isdir(label_path):  # Check if it's a directory\n",
        "            label_index = len(labels)  # Assign unique label per directory\n",
        "            for img_name in os.listdir(label_path):\n",
        "                img_path = os.path.join(label_path, img_name)\n",
        "                if os.path.isfile(img_path):  # Ensure it's a file\n",
        "                    image = load_img(img_path, color_mode=\"grayscale\", target_size=img_size)\n",
        "                    image = img_to_array(image) / 255.0  # Normalize pixel values to [0, 1]\n",
        "                    images.append(image)\n",
        "                    labels.append(label_index)\n",
        "\n",
        "    # Check if any data was loaded\n",
        "    if len(images) == 0 or len(labels) == 0:\n",
        "        print(\"No images or labels were loaded. Please check the dataset path and directory structure.\")\n",
        "    else:\n",
        "        # Convert to numpy arrays and proceed with train-test split\n",
        "        images = np.array(images)\n",
        "        labels = to_categorical(np.array(labels))\n",
        "\n",
        "        # Split into training and testing sets\n",
        "        X_train, X_test, y_train, y_test = train_test_split(images, labels, test_size=0.3, random_state=42)\n",
        "\n",
        "        # Model training (assuming `model` is defined and compiled)\n",
        "        history = model.fit(X_train, y_train, epochs=50, batch_size=32, validation_data=(X_test, y_test))\n"
      ],
      "metadata": {
        "colab": {
          "base_uri": "https://localhost:8080/"
        },
        "id": "gysXSI4zhjtH",
        "outputId": "3daa3465-bf4c-43f7-a603-4c7122770d23"
      },
      "execution_count": null,
      "outputs": [
        {
          "output_type": "stream",
          "name": "stdout",
          "text": [
            "Dataset path does not exist. Please verify the path.\n"
          ]
        }
      ]
    },
    {
      "cell_type": "code",
      "source": [
        "print(\"Downloaded dataset path:\", path)\n"
      ],
      "metadata": {
        "colab": {
          "base_uri": "https://localhost:8080/"
        },
        "id": "EnrGHsKDh7CQ",
        "outputId": "e4b93952-dfad-44b4-cf91-cce96f12142e"
      },
      "execution_count": null,
      "outputs": [
        {
          "output_type": "stream",
          "name": "stdout",
          "text": [
            "Downloaded dataset path: /root/.cache/kagglehub/datasets/rdrtud/malimg/versions/1\n"
          ]
        }
      ]
    },
    {
      "cell_type": "code",
      "source": [
        "import os\n",
        "import numpy as np\n",
        "from tensorflow.keras.preprocessing.image import load_img, img_to_array\n",
        "from sklearn.model_selection import train_test_split\n",
        "from tensorflow.keras.utils import to_categorical\n",
        "from tensorflow.keras.models import Sequential\n",
        "from tensorflow.keras.layers import Dense, Flatten\n",
        "\n",
        "# Set dataset_path to point to the actual folder containing the images\n",
        "dataset_path = os.path.join(\"/root/.cache/kagglehub/datasets/rdrtud/malimg/versions/1\", \"data\", \"malimg_paper_dataset_imgs\")\n",
        "img_size = (192, 192)  # Adjust according to your model requirements\n",
        "\n",
        "# Check the structure of the directory\n",
        "print(\"Contents of 'malimg_paper_dataset_imgs' directory:\")\n",
        "print(os.listdir(dataset_path))\n",
        "\n",
        "images = []\n",
        "labels = []\n",
        "class_names = []\n",
        "\n",
        "# Load images and labels\n",
        "for label_index, label_dir in enumerate(os.listdir(dataset_path)):\n",
        "    label_path = os.path.join(dataset_path, label_dir)\n",
        "    if os.path.isdir(label_path):  # Check if it's a directory (for each malware family)\n",
        "        class_names.append(label_dir)  # Keep track of class names\n",
        "        for img_name in os.listdir(label_path):\n",
        "            img_path = os.path.join(label_path, img_name)\n",
        "            if os.path.isfile(img_path):  # Ensure it's a file\n",
        "                image = load_img(img_path, color_mode=\"grayscale\", target_size=img_size)\n",
        "                image = img_to_array(image) / 255.0  # Normalize pixel values to [0, 1]\n",
        "                images.append(image)\n",
        "                labels.append(label_index)\n",
        "\n",
        "# Check if any data was loaded\n",
        "if len(images) == 0 or len(labels) == 0:\n",
        "    print(\"No images or labels were loaded. Please check the dataset path and directory structure.\")\n",
        "else:\n",
        "    # Convert to numpy arrays\n",
        "    images = np.array(images)\n",
        "    labels = np.array(labels)\n",
        "\n",
        "    # Check the number of classes\n",
        "    num_classes = len(np.unique(labels))\n",
        "    print(\"Number of classes:\", num_classes)\n",
        "\n",
        "    # One-hot encode labels based on actual number of classes\n",
        "    labels = to_categorical(labels, num_classes=num_classes)\n",
        "\n",
        "    # Split into training and testing sets\n",
        "    X_train, X_test, y_train, y_test = train_test_split(images, labels, test_size=0.3, random_state=42)\n",
        "\n",
        "    # Define a simple model (for example purposes, adjust as needed)\n",
        "    model = Sequential([\n",
        "        Flatten(input_shape=(img_size[0], img_size[1], 1)),\n",
        "        Dense(128, activation='relu'),\n",
        "        Dense(num_classes, activation='softmax')\n",
        "    ])\n",
        "    model.compile(optimizer='adam', loss='categorical_crossentropy', metrics=['accuracy'])\n",
        "\n",
        "    # Train the model\n",
        "    history = model.fit(X_train, y_train, epochs=50, batch_size=32, validation_data=(X_test, y_test))\n"
      ],
      "metadata": {
        "colab": {
          "base_uri": "https://localhost:8080/"
        },
        "id": "ev0gRAN_jRMy",
        "outputId": "b51a5b8e-9bef-44f7-e8e8-4562ac75aa34"
      },
      "execution_count": null,
      "outputs": [
        {
          "metadata": {
            "tags": null
          },
          "name": "stdout",
          "output_type": "stream",
          "text": [
            "Contents of 'malimg_paper_dataset_imgs' directory:\n",
            "['Agent.FYI', 'Rbot!gen', 'Allaple.A', 'Wintrim.BX', 'C2LOP.gen!g', 'Yuner.A', 'Lolyda.AA1', 'Lolyda.AA2', 'Allaple.L', 'Instantaccess', 'Dontovo.A', 'Malex.gen!J', 'Autorun.K', 'Adialer.C', 'Lolyda.AT', 'VB.AT', 'Swizzor.gen!I', 'Swizzor.gen!E', 'Lolyda.AA3', 'Skintrim.N', 'C2LOP.P', 'Obfuscator.AD', 'Fakerean', 'Dialplatform.B', 'Alueron.gen!J']\n",
            "Number of classes: 25\n"
          ]
        },
        {
          "metadata": {
            "tags": null
          },
          "name": "stderr",
          "output_type": "stream",
          "text": [
            "/usr/local/lib/python3.10/dist-packages/keras/src/layers/reshaping/flatten.py:37: UserWarning: Do not pass an `input_shape`/`input_dim` argument to a layer. When using Sequential models, prefer using an `Input(shape)` object as the first layer in the model instead.\n",
            "  super().__init__(**kwargs)\n"
          ]
        },
        {
          "output_type": "stream",
          "name": "stdout",
          "text": [
            "Epoch 1/50\n",
            "\u001b[1m205/205\u001b[0m \u001b[32m━━━━━━━━━━━━━━━━━━━━\u001b[0m\u001b[37m\u001b[0m \u001b[1m19s\u001b[0m 84ms/step - accuracy: 0.5664 - loss: 5.2147 - val_accuracy: 0.9011 - val_loss: 0.4653\n",
            "Epoch 2/50\n",
            "\u001b[1m205/205\u001b[0m \u001b[32m━━━━━━━━━━━━━━━━━━━━\u001b[0m\u001b[37m\u001b[0m \u001b[1m19s\u001b[0m 77ms/step - accuracy: 0.9350 - loss: 0.3078 - val_accuracy: 0.9429 - val_loss: 0.2130\n",
            "Epoch 3/50\n",
            "\u001b[1m205/205\u001b[0m \u001b[32m━━━━━━━━━━━━━━━━━━━━\u001b[0m\u001b[37m\u001b[0m \u001b[1m21s\u001b[0m 80ms/step - accuracy: 0.9816 - loss: 0.0983 - val_accuracy: 0.9493 - val_loss: 0.1698\n",
            "Epoch 4/50\n",
            "\u001b[1m205/205\u001b[0m \u001b[32m━━━━━━━━━━━━━━━━━━━━\u001b[0m\u001b[37m\u001b[0m \u001b[1m16s\u001b[0m 80ms/step - accuracy: 0.9939 - loss: 0.0492 - val_accuracy: 0.9636 - val_loss: 0.1420\n",
            "Epoch 5/50\n",
            "\u001b[1m205/205\u001b[0m \u001b[32m━━━━━━━━━━━━━━━━━━━━\u001b[0m\u001b[37m\u001b[0m \u001b[1m16s\u001b[0m 79ms/step - accuracy: 0.9987 - loss: 0.0197 - val_accuracy: 0.9690 - val_loss: 0.1136\n",
            "Epoch 6/50\n",
            "\u001b[1m205/205\u001b[0m \u001b[32m━━━━━━━━━━━━━━━━━━━━\u001b[0m\u001b[37m\u001b[0m \u001b[1m20s\u001b[0m 77ms/step - accuracy: 0.9999 - loss: 0.0088 - val_accuracy: 0.9718 - val_loss: 0.1043\n",
            "Epoch 7/50\n",
            "\u001b[1m205/205\u001b[0m \u001b[32m━━━━━━━━━━━━━━━━━━━━\u001b[0m\u001b[37m\u001b[0m \u001b[1m16s\u001b[0m 77ms/step - accuracy: 0.9996 - loss: 0.0055 - val_accuracy: 0.9686 - val_loss: 0.1069\n",
            "Epoch 8/50\n",
            "\u001b[1m205/205\u001b[0m \u001b[32m━━━━━━━━━━━━━━━━━━━━\u001b[0m\u001b[37m\u001b[0m \u001b[1m21s\u001b[0m 78ms/step - accuracy: 1.0000 - loss: 0.0040 - val_accuracy: 0.9707 - val_loss: 0.1013\n",
            "Epoch 9/50\n",
            "\u001b[1m205/205\u001b[0m \u001b[32m━━━━━━━━━━━━━━━━━━━━\u001b[0m\u001b[37m\u001b[0m \u001b[1m20s\u001b[0m 75ms/step - accuracy: 1.0000 - loss: 0.0028 - val_accuracy: 0.9714 - val_loss: 0.0997\n",
            "Epoch 10/50\n",
            "\u001b[1m205/205\u001b[0m \u001b[32m━━━━━━━━━━━━━━━━━━━━\u001b[0m\u001b[37m\u001b[0m \u001b[1m21s\u001b[0m 80ms/step - accuracy: 1.0000 - loss: 0.0024 - val_accuracy: 0.9718 - val_loss: 0.1058\n",
            "Epoch 11/50\n",
            "\u001b[1m205/205\u001b[0m \u001b[32m━━━━━━━━━━━━━━━━━━━━\u001b[0m\u001b[37m\u001b[0m \u001b[1m19s\u001b[0m 74ms/step - accuracy: 1.0000 - loss: 0.0020 - val_accuracy: 0.9714 - val_loss: 0.1039\n",
            "Epoch 12/50\n",
            "\u001b[1m205/205\u001b[0m \u001b[32m━━━━━━━━━━━━━━━━━━━━\u001b[0m\u001b[37m\u001b[0m \u001b[1m21s\u001b[0m 77ms/step - accuracy: 1.0000 - loss: 0.0016 - val_accuracy: 0.9725 - val_loss: 0.1003\n",
            "Epoch 13/50\n",
            "\u001b[1m205/205\u001b[0m \u001b[32m━━━━━━━━━━━━━━━━━━━━\u001b[0m\u001b[37m\u001b[0m \u001b[1m20s\u001b[0m 77ms/step - accuracy: 1.0000 - loss: 0.0013 - val_accuracy: 0.9711 - val_loss: 0.1040\n",
            "Epoch 14/50\n",
            "\u001b[1m205/205\u001b[0m \u001b[32m━━━━━━━━━━━━━━━━━━━━\u001b[0m\u001b[37m\u001b[0m \u001b[1m20s\u001b[0m 73ms/step - accuracy: 1.0000 - loss: 0.0010 - val_accuracy: 0.9725 - val_loss: 0.1030\n",
            "Epoch 15/50\n",
            "\u001b[1m205/205\u001b[0m \u001b[32m━━━━━━━━━━━━━━━━━━━━\u001b[0m\u001b[37m\u001b[0m \u001b[1m15s\u001b[0m 75ms/step - accuracy: 1.0000 - loss: 8.6812e-04 - val_accuracy: 0.9714 - val_loss: 0.1050\n",
            "Epoch 16/50\n",
            "\u001b[1m205/205\u001b[0m \u001b[32m━━━━━━━━━━━━━━━━━━━━\u001b[0m\u001b[37m\u001b[0m \u001b[1m16s\u001b[0m 77ms/step - accuracy: 1.0000 - loss: 8.4214e-04 - val_accuracy: 0.9711 - val_loss: 0.1042\n",
            "Epoch 17/50\n",
            "\u001b[1m205/205\u001b[0m \u001b[32m━━━━━━━━━━━━━━━━━━━━\u001b[0m\u001b[37m\u001b[0m \u001b[1m16s\u001b[0m 79ms/step - accuracy: 1.0000 - loss: 6.0688e-04 - val_accuracy: 0.9722 - val_loss: 0.0997\n",
            "Epoch 18/50\n",
            "\u001b[1m205/205\u001b[0m \u001b[32m━━━━━━━━━━━━━━━━━━━━\u001b[0m\u001b[37m\u001b[0m \u001b[1m20s\u001b[0m 78ms/step - accuracy: 1.0000 - loss: 5.8287e-04 - val_accuracy: 0.9718 - val_loss: 0.0999\n",
            "Epoch 19/50\n",
            "\u001b[1m205/205\u001b[0m \u001b[32m━━━━━━━━━━━━━━━━━━━━\u001b[0m\u001b[37m\u001b[0m \u001b[1m22s\u001b[0m 83ms/step - accuracy: 1.0000 - loss: 5.0283e-04 - val_accuracy: 0.9725 - val_loss: 0.1031\n",
            "Epoch 20/50\n",
            "\u001b[1m205/205\u001b[0m \u001b[32m━━━━━━━━━━━━━━━━━━━━\u001b[0m\u001b[37m\u001b[0m \u001b[1m19s\u001b[0m 75ms/step - accuracy: 1.0000 - loss: 4.3692e-04 - val_accuracy: 0.9714 - val_loss: 0.1062\n",
            "Epoch 21/50\n",
            "\u001b[1m205/205\u001b[0m \u001b[32m━━━━━━━━━━━━━━━━━━━━\u001b[0m\u001b[37m\u001b[0m \u001b[1m20s\u001b[0m 71ms/step - accuracy: 1.0000 - loss: 3.7551e-04 - val_accuracy: 0.9729 - val_loss: 0.1032\n",
            "Epoch 22/50\n",
            "\u001b[1m205/205\u001b[0m \u001b[32m━━━━━━━━━━━━━━━━━━━━\u001b[0m\u001b[37m\u001b[0m \u001b[1m15s\u001b[0m 72ms/step - accuracy: 1.0000 - loss: 3.3571e-04 - val_accuracy: 0.9718 - val_loss: 0.1012\n",
            "Epoch 23/50\n",
            "\u001b[1m205/205\u001b[0m \u001b[32m━━━━━━━━━━━━━━━━━━━━\u001b[0m\u001b[37m\u001b[0m \u001b[1m15s\u001b[0m 72ms/step - accuracy: 1.0000 - loss: 2.7241e-04 - val_accuracy: 0.9718 - val_loss: 0.1050\n",
            "Epoch 24/50\n",
            "\u001b[1m205/205\u001b[0m \u001b[32m━━━━━━━━━━━━━━━━━━━━\u001b[0m\u001b[37m\u001b[0m \u001b[1m20s\u001b[0m 71ms/step - accuracy: 1.0000 - loss: 2.4147e-04 - val_accuracy: 0.9707 - val_loss: 0.1069\n",
            "Epoch 25/50\n",
            "\u001b[1m205/205\u001b[0m \u001b[32m━━━━━━━━━━━━━━━━━━━━\u001b[0m\u001b[37m\u001b[0m \u001b[1m15s\u001b[0m 71ms/step - accuracy: 1.0000 - loss: 2.0636e-04 - val_accuracy: 0.9725 - val_loss: 0.1041\n",
            "Epoch 26/50\n",
            "\u001b[1m205/205\u001b[0m \u001b[32m━━━━━━━━━━━━━━━━━━━━\u001b[0m\u001b[37m\u001b[0m \u001b[1m15s\u001b[0m 71ms/step - accuracy: 1.0000 - loss: 1.9773e-04 - val_accuracy: 0.9732 - val_loss: 0.1079\n",
            "Epoch 27/50\n",
            "\u001b[1m205/205\u001b[0m \u001b[32m━━━━━━━━━━━━━━━━━━━━\u001b[0m\u001b[37m\u001b[0m \u001b[1m21s\u001b[0m 72ms/step - accuracy: 1.0000 - loss: 1.7210e-04 - val_accuracy: 0.9722 - val_loss: 0.1043\n",
            "Epoch 28/50\n",
            "\u001b[1m205/205\u001b[0m \u001b[32m━━━━━━━━━━━━━━━━━━━━\u001b[0m\u001b[37m\u001b[0m \u001b[1m21s\u001b[0m 73ms/step - accuracy: 1.0000 - loss: 1.5173e-04 - val_accuracy: 0.9722 - val_loss: 0.1050\n",
            "Epoch 29/50\n",
            "\u001b[1m205/205\u001b[0m \u001b[32m━━━━━━━━━━━━━━━━━━━━\u001b[0m\u001b[37m\u001b[0m \u001b[1m20s\u001b[0m 72ms/step - accuracy: 1.0000 - loss: 1.2819e-04 - val_accuracy: 0.9718 - val_loss: 0.1068\n",
            "Epoch 30/50\n",
            "\u001b[1m205/205\u001b[0m \u001b[32m━━━━━━━━━━━━━━━━━━━━\u001b[0m\u001b[37m\u001b[0m \u001b[1m22s\u001b[0m 79ms/step - accuracy: 1.0000 - loss: 1.1871e-04 - val_accuracy: 0.9722 - val_loss: 0.1071\n",
            "Epoch 31/50\n",
            "\u001b[1m205/205\u001b[0m \u001b[32m━━━━━━━━━━━━━━━━━━━━\u001b[0m\u001b[37m\u001b[0m \u001b[1m19s\u001b[0m 72ms/step - accuracy: 1.0000 - loss: 9.6339e-05 - val_accuracy: 0.9729 - val_loss: 0.1039\n",
            "Epoch 32/50\n",
            "\u001b[1m205/205\u001b[0m \u001b[32m━━━━━━━━━━━━━━━━━━━━\u001b[0m\u001b[37m\u001b[0m \u001b[1m22s\u001b[0m 78ms/step - accuracy: 1.0000 - loss: 8.9079e-05 - val_accuracy: 0.9725 - val_loss: 0.1101\n",
            "Epoch 33/50\n",
            "\u001b[1m205/205\u001b[0m \u001b[32m━━━━━━━━━━━━━━━━━━━━\u001b[0m\u001b[37m\u001b[0m \u001b[1m15s\u001b[0m 72ms/step - accuracy: 1.0000 - loss: 7.8365e-05 - val_accuracy: 0.9714 - val_loss: 0.1099\n",
            "Epoch 34/50\n",
            "\u001b[1m205/205\u001b[0m \u001b[32m━━━━━━━━━━━━━━━━━━━━\u001b[0m\u001b[37m\u001b[0m \u001b[1m20s\u001b[0m 73ms/step - accuracy: 1.0000 - loss: 6.7798e-05 - val_accuracy: 0.9729 - val_loss: 0.1060\n",
            "Epoch 35/50\n",
            "\u001b[1m205/205\u001b[0m \u001b[32m━━━━━━━━━━━━━━━━━━━━\u001b[0m\u001b[37m\u001b[0m \u001b[1m20s\u001b[0m 72ms/step - accuracy: 1.0000 - loss: 6.6989e-05 - val_accuracy: 0.9725 - val_loss: 0.1066\n",
            "Epoch 36/50\n",
            "\u001b[1m205/205\u001b[0m \u001b[32m━━━━━━━━━━━━━━━━━━━━\u001b[0m\u001b[37m\u001b[0m \u001b[1m15s\u001b[0m 72ms/step - accuracy: 1.0000 - loss: 5.3058e-05 - val_accuracy: 0.9732 - val_loss: 0.1075\n",
            "Epoch 37/50\n",
            "\u001b[1m205/205\u001b[0m \u001b[32m━━━━━━━━━━━━━━━━━━━━\u001b[0m\u001b[37m\u001b[0m \u001b[1m15s\u001b[0m 72ms/step - accuracy: 1.0000 - loss: 4.9014e-05 - val_accuracy: 0.9722 - val_loss: 0.1080\n",
            "Epoch 38/50\n",
            "\u001b[1m205/205\u001b[0m \u001b[32m━━━━━━━━━━━━━━━━━━━━\u001b[0m\u001b[37m\u001b[0m \u001b[1m15s\u001b[0m 73ms/step - accuracy: 1.0000 - loss: 4.3906e-05 - val_accuracy: 0.9722 - val_loss: 0.1106\n",
            "Epoch 39/50\n",
            "\u001b[1m205/205\u001b[0m \u001b[32m━━━━━━━━━━━━━━━━━━━━\u001b[0m\u001b[37m\u001b[0m \u001b[1m15s\u001b[0m 72ms/step - accuracy: 1.0000 - loss: 3.9412e-05 - val_accuracy: 0.9725 - val_loss: 0.1143\n",
            "Epoch 40/50\n",
            "\u001b[1m205/205\u001b[0m \u001b[32m━━━━━━━━━━━━━━━━━━━━\u001b[0m\u001b[37m\u001b[0m \u001b[1m16s\u001b[0m 76ms/step - accuracy: 1.0000 - loss: 3.6050e-05 - val_accuracy: 0.9714 - val_loss: 0.1119\n",
            "Epoch 41/50\n",
            "\u001b[1m205/205\u001b[0m \u001b[32m━━━━━━━━━━━━━━━━━━━━\u001b[0m\u001b[37m\u001b[0m \u001b[1m20s\u001b[0m 72ms/step - accuracy: 1.0000 - loss: 3.1169e-05 - val_accuracy: 0.9714 - val_loss: 0.1126\n",
            "Epoch 42/50\n",
            "\u001b[1m205/205\u001b[0m \u001b[32m━━━━━━━━━━━━━━━━━━━━\u001b[0m\u001b[37m\u001b[0m \u001b[1m20s\u001b[0m 73ms/step - accuracy: 1.0000 - loss: 2.7806e-05 - val_accuracy: 0.9722 - val_loss: 0.1122\n",
            "Epoch 43/50\n",
            "\u001b[1m205/205\u001b[0m \u001b[32m━━━━━━━━━━━━━━━━━━━━\u001b[0m\u001b[37m\u001b[0m \u001b[1m21s\u001b[0m 73ms/step - accuracy: 1.0000 - loss: 2.4331e-05 - val_accuracy: 0.9725 - val_loss: 0.1122\n",
            "Epoch 44/50\n",
            "\u001b[1m205/205\u001b[0m \u001b[32m━━━━━━━━━━━━━━━━━━━━\u001b[0m\u001b[37m\u001b[0m \u001b[1m20s\u001b[0m 72ms/step - accuracy: 1.0000 - loss: 2.2863e-05 - val_accuracy: 0.9729 - val_loss: 0.1118\n",
            "Epoch 45/50\n",
            "\u001b[1m205/205\u001b[0m \u001b[32m━━━━━━━━━━━━━━━━━━━━\u001b[0m\u001b[37m\u001b[0m \u001b[1m15s\u001b[0m 73ms/step - accuracy: 1.0000 - loss: 2.0188e-05 - val_accuracy: 0.9729 - val_loss: 0.1152\n",
            "Epoch 46/50\n",
            "\u001b[1m205/205\u001b[0m \u001b[32m━━━━━━━━━━━━━━━━━━━━\u001b[0m\u001b[37m\u001b[0m \u001b[1m20s\u001b[0m 73ms/step - accuracy: 1.0000 - loss: 1.7790e-05 - val_accuracy: 0.9718 - val_loss: 0.1177\n",
            "Epoch 47/50\n",
            "\u001b[1m205/205\u001b[0m \u001b[32m━━━━━━━━━━━━━━━━━━━━\u001b[0m\u001b[37m\u001b[0m \u001b[1m21s\u001b[0m 77ms/step - accuracy: 1.0000 - loss: 1.5330e-05 - val_accuracy: 0.9725 - val_loss: 0.1136\n",
            "Epoch 48/50\n",
            "\u001b[1m205/205\u001b[0m \u001b[32m━━━━━━━━━━━━━━━━━━━━\u001b[0m\u001b[37m\u001b[0m \u001b[1m16s\u001b[0m 77ms/step - accuracy: 1.0000 - loss: 1.4471e-05 - val_accuracy: 0.9729 - val_loss: 0.1160\n",
            "Epoch 49/50\n",
            "\u001b[1m205/205\u001b[0m \u001b[32m━━━━━━━━━━━━━━━━━━━━\u001b[0m\u001b[37m\u001b[0m \u001b[1m15s\u001b[0m 72ms/step - accuracy: 1.0000 - loss: 1.2707e-05 - val_accuracy: 0.9732 - val_loss: 0.1174\n",
            "Epoch 50/50\n",
            "\u001b[1m205/205\u001b[0m \u001b[32m━━━━━━━━━━━━━━━━━━━━\u001b[0m\u001b[37m\u001b[0m \u001b[1m21s\u001b[0m 74ms/step - accuracy: 1.0000 - loss: 1.1127e-05 - val_accuracy: 0.9722 - val_loss: 0.1181\n"
          ]
        }
      ]
    },
    {
      "cell_type": "code",
      "source": [
        "accuracy = model.evaluate(X_test, y_test, verbose=0)[1]\n",
        "print(\"Test Accuracy:\", accuracy)"
      ],
      "metadata": {
        "colab": {
          "base_uri": "https://localhost:8080/"
        },
        "id": "PA-IslfUeEUY",
        "outputId": "2207d0dd-3ea0-440b-d311-1d1257f4e7ee"
      },
      "execution_count": null,
      "outputs": [
        {
          "output_type": "stream",
          "name": "stdout",
          "text": [
            "Test Accuracy: 0.9721627235412598\n"
          ]
        }
      ]
    }
  ]
}